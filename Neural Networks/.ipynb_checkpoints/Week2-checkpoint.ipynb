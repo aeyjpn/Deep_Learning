{
 "cells": [
  {
   "cell_type": "code",
   "execution_count": 1,
   "metadata": {},
   "outputs": [
    {
     "name": "stdout",
     "output_type": "stream",
     "text": [
      "[1 2 3 4]\n"
     ]
    }
   ],
   "source": [
    "import numpy as np\n",
    "\n",
    "a = np.array([1,2,3,4])\n",
    "print(a)"
   ]
  },
  {
   "cell_type": "markdown",
   "metadata": {},
   "source": [
    "### Show how vectorization is much faster than for-loops."
   ]
  },
  {
   "cell_type": "code",
   "execution_count": 35,
   "metadata": {},
   "outputs": [
    {
     "name": "stdout",
     "output_type": "stream",
     "text": [
      "249852.4473361575\n",
      "Vectorized version: 0.9799003601074219 ms\n",
      "249852.4473361565\n",
      "For loop: 326.1551856994629ms\n",
      "Vectorized run about 333 times faster than for loop\n"
     ]
    }
   ],
   "source": [
    "# Show how vectorization is much faster than for-loops\n",
    "\n",
    "import time\n",
    "\n",
    "a = np.random.rand(1000000)\n",
    "b = np.random.rand(1000000)\n",
    "\n",
    "tic = time.time()\n",
    "c = np.dot(a,b)\n",
    "toc = time.time()\n",
    "\n",
    "print(c)\n",
    "vectorized = 1000*(toc-tic)\n",
    "print(\"Vectorized version: \" + str(vectorized) + \" ms\")\n",
    "\n",
    "c = 0\n",
    "tic = time.time()\n",
    "for i in range(1000000):\n",
    "    c += a[i] * b[i]\n",
    "toc = time.time()\n",
    "\n",
    "print(c)\n",
    "forloop = 1000*(toc-tic)\n",
    "print(\"For loop: \" + str(forloop) + \"ms\")\n",
    "                 \n",
    "print(\"Vectorized run about \" + str(round(forloop/vectorized)) + \" times faster than for loop\")"
   ]
  },
  {
   "cell_type": "markdown",
   "metadata": {},
   "source": [
    "### Broardcasting examples"
   ]
  },
  {
   "cell_type": "markdown",
   "metadata": {},
   "source": [
    "#### 1st example"
   ]
  },
  {
   "cell_type": "code",
   "execution_count": 37,
   "metadata": {},
   "outputs": [
    {
     "name": "stdout",
     "output_type": "stream",
     "text": [
      "[[ 56.    0.    4.4  68. ]\n",
      " [  1.2 104.   52.    8. ]\n",
      " [  1.8 135.   99.    0.9]]\n"
     ]
    }
   ],
   "source": [
    "A = np.array([[56.0, 0.0, 4.4, 68.0],\n",
    "            [1.2, 104.0, 52.0, 8.0],\n",
    "            [1.8, 135.0, 99.0, 0.9]])\n",
    "\n",
    "print(A)"
   ]
  },
  {
   "cell_type": "code",
   "execution_count": 40,
   "metadata": {},
   "outputs": [
    {
     "name": "stdout",
     "output_type": "stream",
     "text": [
      "[ 59.  239.  155.4  76.9]\n"
     ]
    }
   ],
   "source": [
    "# sum by column\n",
    "\n",
    "cal = A.sum(axis=0)\n",
    "print(cal)"
   ]
  },
  {
   "cell_type": "code",
   "execution_count": 42,
   "metadata": {},
   "outputs": [
    {
     "name": "stdout",
     "output_type": "stream",
     "text": [
      "[[94.91525424  0.          2.83140283 88.42652796]\n",
      " [ 2.03389831 43.51464435 33.46203346 10.40312094]\n",
      " [ 3.05084746 56.48535565 63.70656371  1.17035111]]\n"
     ]
    }
   ],
   "source": [
    "# compute percentages\n",
    "\n",
    "percentage = 100*A / cal.reshape(1, 4)\n",
    "print(percentage)"
   ]
  },
  {
   "cell_type": "markdown",
   "metadata": {},
   "source": [
    "#### 2nd example"
   ]
  },
  {
   "cell_type": "code",
   "execution_count": 47,
   "metadata": {},
   "outputs": [
    {
     "name": "stdout",
     "output_type": "stream",
     "text": [
      "B:\n",
      " [[1 2 3]\n",
      " [4 5 6]]\n",
      "C:\n",
      " [[100 200 300]]\n"
     ]
    }
   ],
   "source": [
    "# (m, n) matrix\n",
    "B = np.array([[1, 2, 3],\n",
    "             [4, 5, 6]])\n",
    "\n",
    "# (1, n) matrix\n",
    "C =  np.array([[100, 200, 300]])\n",
    "\n",
    "print(\"B:\\n\", B)\n",
    "print(\"C:\\n\", C)"
   ]
  },
  {
   "cell_type": "code",
   "execution_count": 48,
   "metadata": {},
   "outputs": [
    {
     "name": "stdout",
     "output_type": "stream",
     "text": [
      "[[101 202 303]\n",
      " [104 205 306]]\n"
     ]
    }
   ],
   "source": [
    "# try to add (m, n) matrix and (1, n) matrix\n",
    "\n",
    "D = B + C\n",
    "print(D)"
   ]
  },
  {
   "cell_type": "markdown",
   "metadata": {},
   "source": [
    "Python copy 1st row to \"m\" times vertically matrix and then added."
   ]
  },
  {
   "cell_type": "markdown",
   "metadata": {},
   "source": [
    "#### 3rd example"
   ]
  },
  {
   "cell_type": "code",
   "execution_count": 80,
   "metadata": {},
   "outputs": [
    {
     "name": "stdout",
     "output_type": "stream",
     "text": [
      "B:\n",
      " [[1 2 3]\n",
      " [4 5 6]]\n",
      "C:\n",
      " [[100]\n",
      " [200]]\n"
     ]
    }
   ],
   "source": [
    "# (m, n) matrix\n",
    "B = np.array([[1, 2, 3],\n",
    "             [4, 5, 6]])\n",
    "\n",
    "# (m, 1) matrix\n",
    "C =  np.array([[100],\n",
    "               [200]])\n",
    "\n",
    "print(\"B:\\n\", B)\n",
    "print(\"C:\\n\", C)"
   ]
  },
  {
   "cell_type": "code",
   "execution_count": 81,
   "metadata": {},
   "outputs": [
    {
     "name": "stdout",
     "output_type": "stream",
     "text": [
      "[[101 102 103]\n",
      " [204 205 206]]\n"
     ]
    }
   ],
   "source": [
    "# try to add (m, n) matrix and (m, 1) matrix\n",
    "\n",
    "D = B + C\n",
    "print(D)"
   ]
  },
  {
   "cell_type": "markdown",
   "metadata": {},
   "source": [
    "Python copy 1st column to \"n\" times horizontally matrix and then added."
   ]
  },
  {
   "cell_type": "markdown",
   "metadata": {},
   "source": [
    "**This alson apply to \"+\", \"-\", \"*\", \"/\" operations and also one variable.**"
   ]
  },
  {
   "cell_type": "code",
   "execution_count": 57,
   "metadata": {},
   "outputs": [
    {
     "name": "stdout",
     "output_type": "stream",
     "text": [
      "[[101 102 103]\n",
      " [204 205 206]]\n",
      "[[ -99  -98  -97]\n",
      " [-196 -195 -194]]\n",
      "[[ 100  200  300]\n",
      " [ 800 1000 1200]]\n",
      "[[0.01  0.02  0.03 ]\n",
      " [0.02  0.025 0.03 ]]\n",
      "[[1001 1002 1003]\n",
      " [1004 1005 1006]]\n"
     ]
    }
   ],
   "source": [
    "Dp = B + C\n",
    "Ds = B - C\n",
    "Dm = B * C\n",
    "Dd = B / C\n",
    "\n",
    "F = 1000\n",
    "\n",
    "Dv = B + F\n",
    "\n",
    "print(Dp)\n",
    "print(Ds)\n",
    "print(Dm)\n",
    "print(Dd)\n",
    "print(Dv)"
   ]
  },
  {
   "cell_type": "markdown",
   "metadata": {},
   "source": [
    "### Python-Numpy vectors for bug-free program"
   ]
  },
  {
   "cell_type": "markdown",
   "metadata": {},
   "source": [
    "**rank 1 array (don't use because it's not vector)**"
   ]
  },
  {
   "cell_type": "code",
   "execution_count": 68,
   "metadata": {},
   "outputs": [
    {
     "name": "stdout",
     "output_type": "stream",
     "text": [
      "[-1.19715188  0.50350684 -0.58137616 -0.78704405 -1.28045656]\n"
     ]
    }
   ],
   "source": [
    "# rank 1 array (don't use)\n",
    "a = np.random.randn(5)\n",
    "print(a)"
   ]
  },
  {
   "cell_type": "code",
   "execution_count": 60,
   "metadata": {},
   "outputs": [
    {
     "name": "stdout",
     "output_type": "stream",
     "text": [
      "(5,)\n"
     ]
    }
   ],
   "source": [
    "print(a.shape)"
   ]
  },
  {
   "cell_type": "code",
   "execution_count": 61,
   "metadata": {},
   "outputs": [
    {
     "name": "stdout",
     "output_type": "stream",
     "text": [
      "[ 0.34308582 -0.07922412 -0.69106311 -1.22289618 -0.0304746 ]\n"
     ]
    }
   ],
   "source": [
    "print(a.T)"
   ]
  },
  {
   "cell_type": "code",
   "execution_count": 62,
   "metadata": {},
   "outputs": [
    {
     "name": "stdout",
     "output_type": "stream",
     "text": [
      "2.0979563178912928\n"
     ]
    }
   ],
   "source": [
    "print(np.dot(a, a.T))"
   ]
  },
  {
   "cell_type": "markdown",
   "metadata": {},
   "source": [
    "**use this below instead. (it's a vector)**"
   ]
  },
  {
   "cell_type": "code",
   "execution_count": 71,
   "metadata": {},
   "outputs": [
    {
     "name": "stdout",
     "output_type": "stream",
     "text": [
      "[[0.26375999]\n",
      " [0.03451731]\n",
      " [1.1984254 ]\n",
      " [1.51720977]\n",
      " [0.5434517 ]]\n"
     ]
    }
   ],
   "source": [
    "# a vector\n",
    "a = np.random.randn(5,1)\n",
    "print(a)"
   ]
  },
  {
   "cell_type": "code",
   "execution_count": 65,
   "metadata": {},
   "outputs": [
    {
     "name": "stdout",
     "output_type": "stream",
     "text": [
      "[[ 1.14918717 -0.63585177 -1.40208266  2.39556541  0.25417113]]\n"
     ]
    }
   ],
   "source": [
    "print(a.T)"
   ]
  },
  {
   "cell_type": "code",
   "execution_count": 66,
   "metadata": {},
   "outputs": [
    {
     "name": "stdout",
     "output_type": "stream",
     "text": [
      "[[ 1.32063115 -0.73071269 -1.61125541  2.75295303  0.29209021]\n",
      " [-0.73071269  0.40430747  0.89151674 -1.5232245  -0.16161516]\n",
      " [-1.61125541  0.89151674  1.96583579 -3.35878073 -0.35636894]\n",
      " [ 2.75295303 -1.5232245  -3.35878073  5.73873362  0.60888357]\n",
      " [ 0.29209021 -0.16161516 -0.35636894  0.60888357  0.06460297]]\n"
     ]
    }
   ],
   "source": [
    "print(np.dot(a, a.T))"
   ]
  },
  {
   "cell_type": "code",
   "execution_count": 75,
   "metadata": {},
   "outputs": [
    {
     "ename": "AssertionError",
     "evalue": "",
     "output_type": "error",
     "traceback": [
      "\u001b[1;31m---------------------------------------------------------------------------\u001b[0m",
      "\u001b[1;31mAssertionError\u001b[0m                            Traceback (most recent call last)",
      "\u001b[1;32m<ipython-input-75-4e661db9d8b7>\u001b[0m in \u001b[0;36m<module>\u001b[1;34m\u001b[0m\n\u001b[0;32m      1\u001b[0m \u001b[1;31m# use \"assert\" statement to check error like this below\u001b[0m\u001b[1;33m\u001b[0m\u001b[1;33m\u001b[0m\u001b[1;33m\u001b[0m\u001b[0m\n\u001b[0;32m      2\u001b[0m \u001b[0ma\u001b[0m \u001b[1;33m=\u001b[0m \u001b[0mnp\u001b[0m\u001b[1;33m.\u001b[0m\u001b[0mrandom\u001b[0m\u001b[1;33m.\u001b[0m\u001b[0mrandn\u001b[0m\u001b[1;33m(\u001b[0m\u001b[1;36m5\u001b[0m\u001b[1;33m)\u001b[0m\u001b[1;33m\u001b[0m\u001b[1;33m\u001b[0m\u001b[0m\n\u001b[1;32m----> 3\u001b[1;33m \u001b[1;32massert\u001b[0m\u001b[1;33m(\u001b[0m\u001b[0ma\u001b[0m\u001b[1;33m.\u001b[0m\u001b[0mshape\u001b[0m \u001b[1;33m==\u001b[0m \u001b[1;33m(\u001b[0m\u001b[1;36m5\u001b[0m\u001b[1;33m,\u001b[0m \u001b[1;36m1\u001b[0m\u001b[1;33m)\u001b[0m\u001b[1;33m)\u001b[0m\u001b[1;33m\u001b[0m\u001b[1;33m\u001b[0m\u001b[0m\n\u001b[0m",
      "\u001b[1;31mAssertionError\u001b[0m: "
     ]
    }
   ],
   "source": [
    "# use \"assert\" statement to check error like this below\n",
    "a = np.random.randn(5)\n",
    "assert(a.shape == (5, 1))\n"
   ]
  },
  {
   "cell_type": "markdown",
   "metadata": {},
   "source": [
    "It has an error because, when we check vector dimenshion (5, 1) \"a\" is assign to \"rank 1 array\" not \"vector\""
   ]
  },
  {
   "cell_type": "code",
   "execution_count": 76,
   "metadata": {},
   "outputs": [],
   "source": [
    "# if we found this error then reshape it to a vector\n",
    "a = a.reshape((5, 1))\n",
    "# then check\n",
    "assert(a.shape == (5, 1))"
   ]
  },
  {
   "cell_type": "markdown",
   "metadata": {},
   "source": [
    "That's it. No error anymore"
   ]
  },
  {
   "cell_type": "code",
   "execution_count": 77,
   "metadata": {},
   "outputs": [
    {
     "name": "stdout",
     "output_type": "stream",
     "text": [
      "[[ 1.17442227]\n",
      " [-1.11880936]\n",
      " [ 0.41863979]\n",
      " [-0.19550326]\n",
      " [-0.66995629]]\n"
     ]
    }
   ],
   "source": [
    "print(a)"
   ]
  },
  {
   "cell_type": "code",
   "execution_count": 86,
   "metadata": {},
   "outputs": [
    {
     "data": {
      "text/plain": [
       "array([[-0.05400365,  0.19953783, -0.25421693],\n",
       "       [-1.05328205, -0.72551901,  1.53104105],\n",
       "       [-0.15290085,  0.11157848,  0.30472546]])"
      ]
     },
     "execution_count": 86,
     "metadata": {},
     "output_type": "execute_result"
    }
   ],
   "source": [
    "a = np.random.randn(3, 3)\n",
    "b = np.random.randn(3, 1)\n",
    "\n",
    "c = a*b\n",
    "c"
   ]
  },
  {
   "cell_type": "code",
   "execution_count": null,
   "metadata": {},
   "outputs": [],
   "source": []
  },
  {
   "cell_type": "code",
   "execution_count": null,
   "metadata": {},
   "outputs": [],
   "source": []
  }
 ],
 "metadata": {
  "kernelspec": {
   "display_name": "Python 3",
   "language": "python",
   "name": "python3"
  },
  "language_info": {
   "codemirror_mode": {
    "name": "ipython",
    "version": 3
   },
   "file_extension": ".py",
   "mimetype": "text/x-python",
   "name": "python",
   "nbconvert_exporter": "python",
   "pygments_lexer": "ipython3",
   "version": "3.7.3"
  }
 },
 "nbformat": 4,
 "nbformat_minor": 2
}
